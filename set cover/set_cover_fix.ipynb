{
 "cells": [
  {
   "cell_type": "markdown",
   "metadata": {},
   "source": [
    "## preparing data\n"
   ]
  },
  {
   "cell_type": "code",
   "execution_count": 10,
   "metadata": {},
   "outputs": [],
   "source": [
    "import random\n",
    "\n",
    "#亂數產生隨機個數的set\n",
    "def generate_set():\n",
    "    set_number = random.randint(3,15)\n",
    "\n",
    "    all_list = []\n",
    "\n",
    "    for i in range(set_number):\n",
    "\n",
    "        element_number = random.randint(1,10)\n",
    "\n",
    "        locals()['set'+str(i)] = set()\n",
    "\n",
    "        for j in range(element_number) :\n",
    "\n",
    "            locals()['set'+str(i)].add(random.randint(1,10))\n",
    "\n",
    "        print('set'+str(i), locals()['set'+str(i)])\n",
    "\n",
    "        aug = list(locals()['set'+str(i)])\n",
    "        all_list.append(aug)\n",
    "\n",
    "    return all_list\n",
    "\n",
    "#各個set有多少個元素在其中，由大排到小\n",
    "def set_inf(set_list : list):\n",
    "    list_tuple = []\n",
    "\n",
    "    for i in range(len(set_list)):\n",
    "\n",
    "        tmp_tuple = (i , len(set_list[i]))\n",
    "\n",
    "        list_tuple.append(tmp_tuple)\n",
    "\n",
    "    list_tuple = sorted(list_tuple, key = lambda x : x[1], reverse = True)\n",
    "    \n",
    "    return list_tuple\n",
    "\n",
    "#檢查共含有多少個獨立元素\n",
    "\n",
    "def ind_num(set_list: list):\n",
    "    \n",
    "    all_element = set()\n",
    "    \n",
    "    for i in set_list:\n",
    "        all_element = all_element | set(i)\n",
    "    \n",
    "    return all_element\n",
    "        \n",
    "\n"
   ]
  },
  {
   "cell_type": "code",
   "execution_count": 23,
   "metadata": {
    "tags": []
   },
   "outputs": [
    {
     "name": "stdout",
     "output_type": "stream",
     "text": [
      "set0 {3, 6, 7}\n",
      "set1 {9, 3, 7}\n",
      "set2 {3, 5}\n",
      "set3 {10, 7}\n",
      "set4 {1, 2, 3, 4, 10}\n",
      "set5 {2, 3, 4, 5, 7, 9}\n",
      "set6 {10, 7}\n",
      "set7 {1, 4, 5, 6, 7}\n",
      "set8 {6}\n",
      "set9 {1, 3, 4, 6, 8, 9, 10}\n",
      "set10 {1, 2, 4, 7, 10}\n",
      "set11 {1, 2, 3, 6, 10}\n",
      "set12 {1, 2, 3, 4, 8, 9}\n",
      "set13 {4, 6, 7, 8, 9, 10}\n",
      "set14 {1, 3, 5, 7, 10}\n",
      "[[3, 6, 7], [9, 3, 7], [3, 5], [10, 7], [1, 2, 3, 4, 10], [2, 3, 4, 5, 7, 9], [10, 7], [1, 4, 5, 6, 7], [6], [1, 3, 4, 6, 8, 9, 10], [1, 2, 4, 7, 10], [1, 2, 3, 6, 10], [1, 2, 3, 4, 8, 9], [4, 6, 7, 8, 9, 10], [1, 3, 5, 7, 10]]\n"
     ]
    }
   ],
   "source": [
    "#prepared data\n",
    "\n",
    "set_list = generate_set()\n",
    "print(set_list)\n",
    "all_info = set_inf(set_list)\n",
    "all_element = ind_num(set_list)"
   ]
  },
  {
   "cell_type": "markdown",
   "metadata": {},
   "source": [
    "## Greedy algorithm"
   ]
  },
  {
   "cell_type": "code",
   "execution_count": 24,
   "metadata": {},
   "outputs": [],
   "source": [
    "#預計要投入\n",
    "def greedy_setcover(set_list : list):\n",
    "    all_element = ind_num(set_list) #檢查含有多少獨立元素\n",
    "    set_info = set_inf(set_list) #計算各個set裡面的元素個數，並由大排到小\n",
    "    \n",
    "    set_greedy = set()\n",
    "    answer_list_greedy = []\n",
    "    dum = 0\n",
    "\n",
    "    for i in set_info:\n",
    "            print('set_info =', i)\n",
    "            \n",
    "            set_greedy = set_greedy.union(set_list[i[0]])\n",
    "\n",
    "            print(set_greedy)\n",
    "\n",
    "            answer_list_greedy.append(i[0])\n",
    "\n",
    "            if set_greedy == all_element :\n",
    "                print(answer_list_greedy)\n",
    "                break\n",
    "    \n",
    "    return answer_list_greedy\n"
   ]
  },
  {
   "cell_type": "markdown",
   "metadata": {},
   "source": [
    "## Randomized Rounding"
   ]
  },
  {
   "cell_type": "code",
   "execution_count": 28,
   "metadata": {},
   "outputs": [],
   "source": [
    "def randomized_rounding(set_list : list):\n",
    "    \n",
    "    all_element = ind_num(set_list) #檢查含有多少獨立元素\n",
    "    \n",
    "    set_random = set()\n",
    "    answer_list_random = []\n",
    "\n",
    "    for i in range(50):\n",
    "        set_prob = []\n",
    "        for j in range(len(set_list)):\n",
    "            set_prob.append(random.random())\n",
    "        print('set_prob = ', set_prob)\n",
    "        \n",
    "        for h in range(len(set_list)):\n",
    "            if set_prob[h] >= 0.6:\n",
    "                \n",
    "                set_random = set_random.union(set_list[h])\n",
    "                \n",
    "                answer_list_random.append(h)\n",
    "        \n",
    "        print('set_random = ', set_random)\n",
    "        print('answer_list_random', answer_list_random)\n",
    "\n",
    "        if set_random == all_element:\n",
    "            print('set_random :', set_random)\n",
    "            print(answer_list_random)\n",
    "            break\n",
    "    \n",
    "    return answer_list_random"
   ]
  },
  {
   "cell_type": "code",
   "execution_count": 29,
   "metadata": {},
   "outputs": [
    {
     "name": "stdout",
     "output_type": "stream",
     "text": [
      "set_prob =  [0.16560183217078783, 0.917530547325035, 0.2835550002342814, 0.25191471952551714, 0.7867263489380385, 0.3341080584636268, 0.004780352664288778, 0.9578426704859433, 0.500372239709392, 0.8163248867493781, 0.9211351935736884, 0.032142718626100075, 0.6186163096135965, 0.19517307512436743, 0.29711719275818993]\n",
      "set_random =  {1, 2, 3, 4, 5, 6, 7, 8, 9, 10}\n",
      "answer_list_random [1, 4, 7, 9, 10, 12]\n",
      "set_random : {1, 2, 3, 4, 5, 6, 7, 8, 9, 10}\n",
      "[1, 4, 7, 9, 10, 12]\n",
      "[1, 4, 7, 9, 10, 12]\n"
     ]
    }
   ],
   "source": [
    "print(randomized_rounding(set_list))"
   ]
  },
  {
   "cell_type": "code",
   "execution_count": null,
   "metadata": {},
   "outputs": [],
   "source": []
  }
 ],
 "metadata": {
  "kernelspec": {
   "display_name": "Python 3 (ipykernel)",
   "language": "python",
   "name": "python3"
  },
  "language_info": {
   "codemirror_mode": {
    "name": "ipython",
    "version": 3
   },
   "file_extension": ".py",
   "mimetype": "text/x-python",
   "name": "python",
   "nbconvert_exporter": "python",
   "pygments_lexer": "ipython3",
   "version": "3.8.10"
  }
 },
 "nbformat": 4,
 "nbformat_minor": 4
}
